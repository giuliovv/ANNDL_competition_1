{
  "nbformat": 4,
  "nbformat_minor": 0,
  "metadata": {
    "colab": {
      "name": "toma_model.ipynb",
      "provenance": [],
      "include_colab_link": true
    },
    "kernelspec": {
      "name": "python3",
      "display_name": "Python 3"
    },
    "language_info": {
      "name": "python"
    },
    "accelerator": "GPU"
  },
  "cells": [
    {
      "cell_type": "markdown",
      "metadata": {
        "id": "view-in-github",
        "colab_type": "text"
      },
      "source": [
        "<a href=\"https://colab.research.google.com/github/giuliovv/ANNDL_competitions/blob/master/2_RNN/giulio_model_transformer.ipynb\" target=\"_parent\"><img src=\"https://colab.research.google.com/assets/colab-badge.svg\" alt=\"Open In Colab\"/></a>"
      ]
    },
    {
      "cell_type": "markdown",
      "source": [
        "# Attention is all you need"
      ],
      "metadata": {
        "id": "f1EcnW4rYcVj"
      }
    },
    {
      "cell_type": "markdown",
      "source": [
        "### Connect to drive and import libraries"
      ],
      "metadata": {
        "id": "IhfdEepecYSU"
      }
    },
    {
      "cell_type": "code",
      "execution_count": 1,
      "metadata": {
        "id": "KCDpp5xVbLYd",
        "colab": {
          "base_uri": "https://localhost:8080/"
        },
        "outputId": "3752794f-9bb1-48cc-f47a-b579e642e18a"
      },
      "outputs": [
        {
          "output_type": "stream",
          "name": "stdout",
          "text": [
            "Drive already mounted at /gdrive; to attempt to forcibly remount, call drive.mount(\"/gdrive\", force_remount=True).\n",
            "/gdrive/MyDrive/Colab Notebooks\n"
          ]
        }
      ],
      "source": [
        "import os\n",
        "\n",
        "colab = \"True\" #@param ['True','False']\n",
        "if colab == \"True\":\n",
        "  from google.colab import drive\n",
        "  drive.mount('/gdrive')\n",
        "  %cd /gdrive/MyDrive/Colab Notebooks"
      ]
    },
    {
      "cell_type": "code",
      "source": [
        "import pandas as pd\n",
        "import matplotlib.pyplot as plt\n",
        "import random\n",
        "import tensorflow as tf\n",
        "import numpy as np\n",
        "\n",
        "from tensorflow import keras\n",
        "from tensorflow.keras import layers\n",
        "\n",
        "tfk = tf.keras\n",
        "tfkl = tf.keras.layers"
      ],
      "metadata": {
        "id": "H_15z3lmbOaR"
      },
      "execution_count": 2,
      "outputs": []
    },
    {
      "cell_type": "markdown",
      "source": [
        "### Data inspection"
      ],
      "metadata": {
        "id": "lhDKQ0uOceBd"
      }
    },
    {
      "cell_type": "code",
      "source": [
        "plt.rcParams[\"figure.figsize\"] = (20,10)\n",
        "data = pd.read_csv(\"Training.csv\")\n",
        "data.head()"
      ],
      "metadata": {
        "id": "LazIwsYubRtu",
        "colab": {
          "base_uri": "https://localhost:8080/",
          "height": 206
        },
        "outputId": "bbb8911a-3608-40a8-b130-330c8731eaf1"
      },
      "execution_count": 3,
      "outputs": [
        {
          "output_type": "execute_result",
          "data": {
            "text/html": [
              "\n",
              "  <div id=\"df-b00a0e87-6492-4f08-afa1-0883d7fd5b29\">\n",
              "    <div class=\"colab-df-container\">\n",
              "      <div>\n",
              "<style scoped>\n",
              "    .dataframe tbody tr th:only-of-type {\n",
              "        vertical-align: middle;\n",
              "    }\n",
              "\n",
              "    .dataframe tbody tr th {\n",
              "        vertical-align: top;\n",
              "    }\n",
              "\n",
              "    .dataframe thead th {\n",
              "        text-align: right;\n",
              "    }\n",
              "</style>\n",
              "<table border=\"1\" class=\"dataframe\">\n",
              "  <thead>\n",
              "    <tr style=\"text-align: right;\">\n",
              "      <th></th>\n",
              "      <th>Sponginess</th>\n",
              "      <th>Wonder level</th>\n",
              "      <th>Crunchiness</th>\n",
              "      <th>Loudness on impact</th>\n",
              "      <th>Meme creativity</th>\n",
              "      <th>Soap slipperiness</th>\n",
              "      <th>Hype root</th>\n",
              "    </tr>\n",
              "  </thead>\n",
              "  <tbody>\n",
              "    <tr>\n",
              "      <th>0</th>\n",
              "      <td>7.97698</td>\n",
              "      <td>4.33494</td>\n",
              "      <td>10.67282</td>\n",
              "      <td>1.76692</td>\n",
              "      <td>3.22440</td>\n",
              "      <td>51.681460</td>\n",
              "      <td>3.65434</td>\n",
              "    </tr>\n",
              "    <tr>\n",
              "      <th>1</th>\n",
              "      <td>8.07824</td>\n",
              "      <td>4.44616</td>\n",
              "      <td>10.56160</td>\n",
              "      <td>1.70716</td>\n",
              "      <td>3.32566</td>\n",
              "      <td>51.563598</td>\n",
              "      <td>3.47672</td>\n",
              "    </tr>\n",
              "    <tr>\n",
              "      <th>2</th>\n",
              "      <td>8.02844</td>\n",
              "      <td>4.22372</td>\n",
              "      <td>10.56160</td>\n",
              "      <td>1.64906</td>\n",
              "      <td>3.17460</td>\n",
              "      <td>50.863080</td>\n",
              "      <td>3.47672</td>\n",
              "    </tr>\n",
              "    <tr>\n",
              "      <th>3</th>\n",
              "      <td>8.02844</td>\n",
              "      <td>4.22372</td>\n",
              "      <td>10.56160</td>\n",
              "      <td>1.70716</td>\n",
              "      <td>3.17460</td>\n",
              "      <td>45.841581</td>\n",
              "      <td>3.47672</td>\n",
              "    </tr>\n",
              "    <tr>\n",
              "      <th>4</th>\n",
              "      <td>7.87572</td>\n",
              "      <td>4.44616</td>\n",
              "      <td>10.45038</td>\n",
              "      <td>1.70716</td>\n",
              "      <td>3.27586</td>\n",
              "      <td>47.126421</td>\n",
              "      <td>3.47672</td>\n",
              "    </tr>\n",
              "  </tbody>\n",
              "</table>\n",
              "</div>\n",
              "      <button class=\"colab-df-convert\" onclick=\"convertToInteractive('df-b00a0e87-6492-4f08-afa1-0883d7fd5b29')\"\n",
              "              title=\"Convert this dataframe to an interactive table.\"\n",
              "              style=\"display:none;\">\n",
              "        \n",
              "  <svg xmlns=\"http://www.w3.org/2000/svg\" height=\"24px\"viewBox=\"0 0 24 24\"\n",
              "       width=\"24px\">\n",
              "    <path d=\"M0 0h24v24H0V0z\" fill=\"none\"/>\n",
              "    <path d=\"M18.56 5.44l.94 2.06.94-2.06 2.06-.94-2.06-.94-.94-2.06-.94 2.06-2.06.94zm-11 1L8.5 8.5l.94-2.06 2.06-.94-2.06-.94L8.5 2.5l-.94 2.06-2.06.94zm10 10l.94 2.06.94-2.06 2.06-.94-2.06-.94-.94-2.06-.94 2.06-2.06.94z\"/><path d=\"M17.41 7.96l-1.37-1.37c-.4-.4-.92-.59-1.43-.59-.52 0-1.04.2-1.43.59L10.3 9.45l-7.72 7.72c-.78.78-.78 2.05 0 2.83L4 21.41c.39.39.9.59 1.41.59.51 0 1.02-.2 1.41-.59l7.78-7.78 2.81-2.81c.8-.78.8-2.07 0-2.86zM5.41 20L4 18.59l7.72-7.72 1.47 1.35L5.41 20z\"/>\n",
              "  </svg>\n",
              "      </button>\n",
              "      \n",
              "  <style>\n",
              "    .colab-df-container {\n",
              "      display:flex;\n",
              "      flex-wrap:wrap;\n",
              "      gap: 12px;\n",
              "    }\n",
              "\n",
              "    .colab-df-convert {\n",
              "      background-color: #E8F0FE;\n",
              "      border: none;\n",
              "      border-radius: 50%;\n",
              "      cursor: pointer;\n",
              "      display: none;\n",
              "      fill: #1967D2;\n",
              "      height: 32px;\n",
              "      padding: 0 0 0 0;\n",
              "      width: 32px;\n",
              "    }\n",
              "\n",
              "    .colab-df-convert:hover {\n",
              "      background-color: #E2EBFA;\n",
              "      box-shadow: 0px 1px 2px rgba(60, 64, 67, 0.3), 0px 1px 3px 1px rgba(60, 64, 67, 0.15);\n",
              "      fill: #174EA6;\n",
              "    }\n",
              "\n",
              "    [theme=dark] .colab-df-convert {\n",
              "      background-color: #3B4455;\n",
              "      fill: #D2E3FC;\n",
              "    }\n",
              "\n",
              "    [theme=dark] .colab-df-convert:hover {\n",
              "      background-color: #434B5C;\n",
              "      box-shadow: 0px 1px 3px 1px rgba(0, 0, 0, 0.15);\n",
              "      filter: drop-shadow(0px 1px 2px rgba(0, 0, 0, 0.3));\n",
              "      fill: #FFFFFF;\n",
              "    }\n",
              "  </style>\n",
              "\n",
              "      <script>\n",
              "        const buttonEl =\n",
              "          document.querySelector('#df-b00a0e87-6492-4f08-afa1-0883d7fd5b29 button.colab-df-convert');\n",
              "        buttonEl.style.display =\n",
              "          google.colab.kernel.accessAllowed ? 'block' : 'none';\n",
              "\n",
              "        async function convertToInteractive(key) {\n",
              "          const element = document.querySelector('#df-b00a0e87-6492-4f08-afa1-0883d7fd5b29');\n",
              "          const dataTable =\n",
              "            await google.colab.kernel.invokeFunction('convertToInteractive',\n",
              "                                                     [key], {});\n",
              "          if (!dataTable) return;\n",
              "\n",
              "          const docLinkHtml = 'Like what you see? Visit the ' +\n",
              "            '<a target=\"_blank\" href=https://colab.research.google.com/notebooks/data_table.ipynb>data table notebook</a>'\n",
              "            + ' to learn more about interactive tables.';\n",
              "          element.innerHTML = '';\n",
              "          dataTable['output_type'] = 'display_data';\n",
              "          await google.colab.output.renderOutput(dataTable, element);\n",
              "          const docLink = document.createElement('div');\n",
              "          docLink.innerHTML = docLinkHtml;\n",
              "          element.appendChild(docLink);\n",
              "        }\n",
              "      </script>\n",
              "    </div>\n",
              "  </div>\n",
              "  "
            ],
            "text/plain": [
              "   Sponginess  Wonder level  ...  Soap slipperiness  Hype root\n",
              "0     7.97698       4.33494  ...          51.681460    3.65434\n",
              "1     8.07824       4.44616  ...          51.563598    3.47672\n",
              "2     8.02844       4.22372  ...          50.863080    3.47672\n",
              "3     8.02844       4.22372  ...          45.841581    3.47672\n",
              "4     7.87572       4.44616  ...          47.126421    3.47672\n",
              "\n",
              "[5 rows x 7 columns]"
            ]
          },
          "metadata": {},
          "execution_count": 3
        }
      ]
    },
    {
      "cell_type": "code",
      "source": [
        "data.info()"
      ],
      "metadata": {
        "id": "6bFgu9M4bfDB",
        "colab": {
          "base_uri": "https://localhost:8080/"
        },
        "outputId": "92a80696-f4ee-4b35-8bdc-b42034468c99"
      },
      "execution_count": 4,
      "outputs": [
        {
          "output_type": "stream",
          "name": "stdout",
          "text": [
            "<class 'pandas.core.frame.DataFrame'>\n",
            "RangeIndex: 68528 entries, 0 to 68527\n",
            "Data columns (total 7 columns):\n",
            " #   Column              Non-Null Count  Dtype  \n",
            "---  ------              --------------  -----  \n",
            " 0   Sponginess          68528 non-null  float64\n",
            " 1   Wonder level        68528 non-null  float64\n",
            " 2   Crunchiness         68528 non-null  float64\n",
            " 3   Loudness on impact  68528 non-null  float64\n",
            " 4   Meme creativity     68528 non-null  float64\n",
            " 5   Soap slipperiness   68528 non-null  float64\n",
            " 6   Hype root           68528 non-null  float64\n",
            "dtypes: float64(7)\n",
            "memory usage: 3.7 MB\n"
          ]
        }
      ]
    },
    {
      "cell_type": "code",
      "source": [
        "data.plot(subplots=True, layout=(4,2))\n",
        "data.corr().style.background_gradient(cmap='coolwarm')"
      ],
      "metadata": {
        "id": "LAnjVWjvbcAU",
        "colab": {
          "base_uri": "https://localhost:8080/",
          "height": 269
        },
        "outputId": "3fc50d26-48a8-40b1-ae10-93433aff1fa2"
      },
      "execution_count": null,
      "outputs": [
        {
          "output_type": "execute_result",
          "data": {
            "text/html": [
              "<style  type=\"text/css\" >\n",
              "#T_3e7a884c_68cb_11ec_86f2_0242ac1c0002row0_col0,#T_3e7a884c_68cb_11ec_86f2_0242ac1c0002row1_col1,#T_3e7a884c_68cb_11ec_86f2_0242ac1c0002row2_col2,#T_3e7a884c_68cb_11ec_86f2_0242ac1c0002row3_col3,#T_3e7a884c_68cb_11ec_86f2_0242ac1c0002row4_col4,#T_3e7a884c_68cb_11ec_86f2_0242ac1c0002row5_col5,#T_3e7a884c_68cb_11ec_86f2_0242ac1c0002row6_col6{\n",
              "            background-color:  #b40426;\n",
              "            color:  #f1f1f1;\n",
              "        }#T_3e7a884c_68cb_11ec_86f2_0242ac1c0002row0_col1{\n",
              "            background-color:  #799cf8;\n",
              "            color:  #000000;\n",
              "        }#T_3e7a884c_68cb_11ec_86f2_0242ac1c0002row0_col2{\n",
              "            background-color:  #96b7ff;\n",
              "            color:  #000000;\n",
              "        }#T_3e7a884c_68cb_11ec_86f2_0242ac1c0002row0_col3{\n",
              "            background-color:  #516ddb;\n",
              "            color:  #000000;\n",
              "        }#T_3e7a884c_68cb_11ec_86f2_0242ac1c0002row0_col4{\n",
              "            background-color:  #b2ccfb;\n",
              "            color:  #000000;\n",
              "        }#T_3e7a884c_68cb_11ec_86f2_0242ac1c0002row0_col5{\n",
              "            background-color:  #536edd;\n",
              "            color:  #000000;\n",
              "        }#T_3e7a884c_68cb_11ec_86f2_0242ac1c0002row0_col6{\n",
              "            background-color:  #81a4fb;\n",
              "            color:  #000000;\n",
              "        }#T_3e7a884c_68cb_11ec_86f2_0242ac1c0002row1_col0{\n",
              "            background-color:  #6a8bef;\n",
              "            color:  #000000;\n",
              "        }#T_3e7a884c_68cb_11ec_86f2_0242ac1c0002row1_col2,#T_3e7a884c_68cb_11ec_86f2_0242ac1c0002row3_col4{\n",
              "            background-color:  #5673e0;\n",
              "            color:  #000000;\n",
              "        }#T_3e7a884c_68cb_11ec_86f2_0242ac1c0002row1_col3{\n",
              "            background-color:  #cd423b;\n",
              "            color:  #f1f1f1;\n",
              "        }#T_3e7a884c_68cb_11ec_86f2_0242ac1c0002row1_col4{\n",
              "            background-color:  #bed2f6;\n",
              "            color:  #000000;\n",
              "        }#T_3e7a884c_68cb_11ec_86f2_0242ac1c0002row1_col5{\n",
              "            background-color:  #7a9df8;\n",
              "            color:  #000000;\n",
              "        }#T_3e7a884c_68cb_11ec_86f2_0242ac1c0002row1_col6{\n",
              "            background-color:  #5d7ce6;\n",
              "            color:  #000000;\n",
              "        }#T_3e7a884c_68cb_11ec_86f2_0242ac1c0002row2_col0{\n",
              "            background-color:  #7b9ff9;\n",
              "            color:  #000000;\n",
              "        }#T_3e7a884c_68cb_11ec_86f2_0242ac1c0002row2_col1{\n",
              "            background-color:  #4961d2;\n",
              "            color:  #f1f1f1;\n",
              "        }#T_3e7a884c_68cb_11ec_86f2_0242ac1c0002row2_col3{\n",
              "            background-color:  #4055c8;\n",
              "            color:  #f1f1f1;\n",
              "        }#T_3e7a884c_68cb_11ec_86f2_0242ac1c0002row2_col4,#T_3e7a884c_68cb_11ec_86f2_0242ac1c0002row6_col0{\n",
              "            background-color:  #4f69d9;\n",
              "            color:  #000000;\n",
              "        }#T_3e7a884c_68cb_11ec_86f2_0242ac1c0002row2_col5{\n",
              "            background-color:  #3d50c3;\n",
              "            color:  #f1f1f1;\n",
              "        }#T_3e7a884c_68cb_11ec_86f2_0242ac1c0002row2_col6,#T_3e7a884c_68cb_11ec_86f2_0242ac1c0002row6_col2{\n",
              "            background-color:  #b8122a;\n",
              "            color:  #f1f1f1;\n",
              "        }#T_3e7a884c_68cb_11ec_86f2_0242ac1c0002row3_col0,#T_3e7a884c_68cb_11ec_86f2_0242ac1c0002row4_col2,#T_3e7a884c_68cb_11ec_86f2_0242ac1c0002row4_col6,#T_3e7a884c_68cb_11ec_86f2_0242ac1c0002row6_col1,#T_3e7a884c_68cb_11ec_86f2_0242ac1c0002row6_col3,#T_3e7a884c_68cb_11ec_86f2_0242ac1c0002row6_col4,#T_3e7a884c_68cb_11ec_86f2_0242ac1c0002row6_col5{\n",
              "            background-color:  #3b4cc0;\n",
              "            color:  #f1f1f1;\n",
              "        }#T_3e7a884c_68cb_11ec_86f2_0242ac1c0002row3_col1{\n",
              "            background-color:  #cf453c;\n",
              "            color:  #f1f1f1;\n",
              "        }#T_3e7a884c_68cb_11ec_86f2_0242ac1c0002row3_col2{\n",
              "            background-color:  #465ecf;\n",
              "            color:  #f1f1f1;\n",
              "        }#T_3e7a884c_68cb_11ec_86f2_0242ac1c0002row3_col5,#T_3e7a884c_68cb_11ec_86f2_0242ac1c0002row5_col3{\n",
              "            background-color:  #779af7;\n",
              "            color:  #000000;\n",
              "        }#T_3e7a884c_68cb_11ec_86f2_0242ac1c0002row3_col6{\n",
              "            background-color:  #5470de;\n",
              "            color:  #000000;\n",
              "        }#T_3e7a884c_68cb_11ec_86f2_0242ac1c0002row4_col0{\n",
              "            background-color:  #89acfd;\n",
              "            color:  #000000;\n",
              "        }#T_3e7a884c_68cb_11ec_86f2_0242ac1c0002row4_col1{\n",
              "            background-color:  #a5c3fe;\n",
              "            color:  #000000;\n",
              "        }#T_3e7a884c_68cb_11ec_86f2_0242ac1c0002row4_col3,#T_3e7a884c_68cb_11ec_86f2_0242ac1c0002row5_col0{\n",
              "            background-color:  #3c4ec2;\n",
              "            color:  #f1f1f1;\n",
              "        }#T_3e7a884c_68cb_11ec_86f2_0242ac1c0002row4_col5{\n",
              "            background-color:  #4358cb;\n",
              "            color:  #f1f1f1;\n",
              "        }#T_3e7a884c_68cb_11ec_86f2_0242ac1c0002row5_col1{\n",
              "            background-color:  #7295f4;\n",
              "            color:  #000000;\n",
              "        }#T_3e7a884c_68cb_11ec_86f2_0242ac1c0002row5_col2{\n",
              "            background-color:  #445acc;\n",
              "            color:  #f1f1f1;\n",
              "        }#T_3e7a884c_68cb_11ec_86f2_0242ac1c0002row5_col4{\n",
              "            background-color:  #5e7de7;\n",
              "            color:  #000000;\n",
              "        }#T_3e7a884c_68cb_11ec_86f2_0242ac1c0002row5_col6{\n",
              "            background-color:  #5572df;\n",
              "            color:  #000000;\n",
              "        }</style><table id=\"T_3e7a884c_68cb_11ec_86f2_0242ac1c0002\" class=\"dataframe\"><thead>    <tr>        <th class=\"blank level0\" ></th>        <th class=\"col_heading level0 col0\" >Sponginess</th>        <th class=\"col_heading level0 col1\" >Wonder level</th>        <th class=\"col_heading level0 col2\" >Crunchiness</th>        <th class=\"col_heading level0 col3\" >Loudness on impact</th>        <th class=\"col_heading level0 col4\" >Meme creativity</th>        <th class=\"col_heading level0 col5\" >Soap slipperiness</th>        <th class=\"col_heading level0 col6\" >Hype root</th>    </tr></thead><tbody>\n",
              "                <tr>\n",
              "                        <th id=\"T_3e7a884c_68cb_11ec_86f2_0242ac1c0002level0_row0\" class=\"row_heading level0 row0\" >Sponginess</th>\n",
              "                        <td id=\"T_3e7a884c_68cb_11ec_86f2_0242ac1c0002row0_col0\" class=\"data row0 col0\" >1.000000</td>\n",
              "                        <td id=\"T_3e7a884c_68cb_11ec_86f2_0242ac1c0002row0_col1\" class=\"data row0 col1\" >0.253002</td>\n",
              "                        <td id=\"T_3e7a884c_68cb_11ec_86f2_0242ac1c0002row0_col2\" class=\"data row0 col2\" >0.297509</td>\n",
              "                        <td id=\"T_3e7a884c_68cb_11ec_86f2_0242ac1c0002row0_col3\" class=\"data row0 col3\" >0.121744</td>\n",
              "                        <td id=\"T_3e7a884c_68cb_11ec_86f2_0242ac1c0002row0_col4\" class=\"data row0 col4\" >0.331200</td>\n",
              "                        <td id=\"T_3e7a884c_68cb_11ec_86f2_0242ac1c0002row0_col5\" class=\"data row0 col5\" >0.127885</td>\n",
              "                        <td id=\"T_3e7a884c_68cb_11ec_86f2_0242ac1c0002row0_col6\" class=\"data row0 col6\" >0.183141</td>\n",
              "            </tr>\n",
              "            <tr>\n",
              "                        <th id=\"T_3e7a884c_68cb_11ec_86f2_0242ac1c0002level0_row1\" class=\"row_heading level0 row1\" >Wonder level</th>\n",
              "                        <td id=\"T_3e7a884c_68cb_11ec_86f2_0242ac1c0002row1_col0\" class=\"data row1 col0\" >0.253002</td>\n",
              "                        <td id=\"T_3e7a884c_68cb_11ec_86f2_0242ac1c0002row1_col1\" class=\"data row1 col1\" >1.000000</td>\n",
              "                        <td id=\"T_3e7a884c_68cb_11ec_86f2_0242ac1c0002row1_col2\" class=\"data row1 col2\" >0.119078</td>\n",
              "                        <td id=\"T_3e7a884c_68cb_11ec_86f2_0242ac1c0002row1_col3\" class=\"data row1 col3\" >0.930254</td>\n",
              "                        <td id=\"T_3e7a884c_68cb_11ec_86f2_0242ac1c0002row1_col4\" class=\"data row1 col4\" >0.367438</td>\n",
              "                        <td id=\"T_3e7a884c_68cb_11ec_86f2_0242ac1c0002row1_col5\" class=\"data row1 col5\" >0.237021</td>\n",
              "                        <td id=\"T_3e7a884c_68cb_11ec_86f2_0242ac1c0002row1_col6\" class=\"data row1 col6\" >0.074392</td>\n",
              "            </tr>\n",
              "            <tr>\n",
              "                        <th id=\"T_3e7a884c_68cb_11ec_86f2_0242ac1c0002level0_row2\" class=\"row_heading level0 row2\" >Crunchiness</th>\n",
              "                        <td id=\"T_3e7a884c_68cb_11ec_86f2_0242ac1c0002row2_col0\" class=\"data row2 col0\" >0.297509</td>\n",
              "                        <td id=\"T_3e7a884c_68cb_11ec_86f2_0242ac1c0002row2_col1\" class=\"data row2 col1\" >0.119078</td>\n",
              "                        <td id=\"T_3e7a884c_68cb_11ec_86f2_0242ac1c0002row2_col2\" class=\"data row2 col2\" >1.000000</td>\n",
              "                        <td id=\"T_3e7a884c_68cb_11ec_86f2_0242ac1c0002row2_col3\" class=\"data row2 col3\" >0.067477</td>\n",
              "                        <td id=\"T_3e7a884c_68cb_11ec_86f2_0242ac1c0002row2_col4\" class=\"data row2 col4\" >0.029108</td>\n",
              "                        <td id=\"T_3e7a884c_68cb_11ec_86f2_0242ac1c0002row2_col5\" class=\"data row2 col5\" >0.061539</td>\n",
              "                        <td id=\"T_3e7a884c_68cb_11ec_86f2_0242ac1c0002row2_col6\" class=\"data row2 col6\" >0.987209</td>\n",
              "            </tr>\n",
              "            <tr>\n",
              "                        <th id=\"T_3e7a884c_68cb_11ec_86f2_0242ac1c0002level0_row3\" class=\"row_heading level0 row3\" >Loudness on impact</th>\n",
              "                        <td id=\"T_3e7a884c_68cb_11ec_86f2_0242ac1c0002row3_col0\" class=\"data row3 col0\" >0.121744</td>\n",
              "                        <td id=\"T_3e7a884c_68cb_11ec_86f2_0242ac1c0002row3_col1\" class=\"data row3 col1\" >0.930254</td>\n",
              "                        <td id=\"T_3e7a884c_68cb_11ec_86f2_0242ac1c0002row3_col2\" class=\"data row3 col2\" >0.067477</td>\n",
              "                        <td id=\"T_3e7a884c_68cb_11ec_86f2_0242ac1c0002row3_col3\" class=\"data row3 col3\" >1.000000</td>\n",
              "                        <td id=\"T_3e7a884c_68cb_11ec_86f2_0242ac1c0002row3_col4\" class=\"data row3 col4\" >0.056184</td>\n",
              "                        <td id=\"T_3e7a884c_68cb_11ec_86f2_0242ac1c0002row3_col5\" class=\"data row3 col5\" >0.229336</td>\n",
              "                        <td id=\"T_3e7a884c_68cb_11ec_86f2_0242ac1c0002row3_col6\" class=\"data row3 col6\" >0.048806</td>\n",
              "            </tr>\n",
              "            <tr>\n",
              "                        <th id=\"T_3e7a884c_68cb_11ec_86f2_0242ac1c0002level0_row4\" class=\"row_heading level0 row4\" >Meme creativity</th>\n",
              "                        <td id=\"T_3e7a884c_68cb_11ec_86f2_0242ac1c0002row4_col0\" class=\"data row4 col0\" >0.331200</td>\n",
              "                        <td id=\"T_3e7a884c_68cb_11ec_86f2_0242ac1c0002row4_col1\" class=\"data row4 col1\" >0.367438</td>\n",
              "                        <td id=\"T_3e7a884c_68cb_11ec_86f2_0242ac1c0002row4_col2\" class=\"data row4 col2\" >0.029108</td>\n",
              "                        <td id=\"T_3e7a884c_68cb_11ec_86f2_0242ac1c0002row4_col3\" class=\"data row4 col3\" >0.056184</td>\n",
              "                        <td id=\"T_3e7a884c_68cb_11ec_86f2_0242ac1c0002row4_col4\" class=\"data row4 col4\" >1.000000</td>\n",
              "                        <td id=\"T_3e7a884c_68cb_11ec_86f2_0242ac1c0002row4_col5\" class=\"data row4 col5\" >0.078168</td>\n",
              "                        <td id=\"T_3e7a884c_68cb_11ec_86f2_0242ac1c0002row4_col6\" class=\"data row4 col6\" >-0.040596</td>\n",
              "            </tr>\n",
              "            <tr>\n",
              "                        <th id=\"T_3e7a884c_68cb_11ec_86f2_0242ac1c0002level0_row5\" class=\"row_heading level0 row5\" >Soap slipperiness</th>\n",
              "                        <td id=\"T_3e7a884c_68cb_11ec_86f2_0242ac1c0002row5_col0\" class=\"data row5 col0\" >0.127885</td>\n",
              "                        <td id=\"T_3e7a884c_68cb_11ec_86f2_0242ac1c0002row5_col1\" class=\"data row5 col1\" >0.237021</td>\n",
              "                        <td id=\"T_3e7a884c_68cb_11ec_86f2_0242ac1c0002row5_col2\" class=\"data row5 col2\" >0.061539</td>\n",
              "                        <td id=\"T_3e7a884c_68cb_11ec_86f2_0242ac1c0002row5_col3\" class=\"data row5 col3\" >0.229336</td>\n",
              "                        <td id=\"T_3e7a884c_68cb_11ec_86f2_0242ac1c0002row5_col4\" class=\"data row5 col4\" >0.078168</td>\n",
              "                        <td id=\"T_3e7a884c_68cb_11ec_86f2_0242ac1c0002row5_col5\" class=\"data row5 col5\" >1.000000</td>\n",
              "                        <td id=\"T_3e7a884c_68cb_11ec_86f2_0242ac1c0002row5_col6\" class=\"data row5 col6\" >0.050996</td>\n",
              "            </tr>\n",
              "            <tr>\n",
              "                        <th id=\"T_3e7a884c_68cb_11ec_86f2_0242ac1c0002level0_row6\" class=\"row_heading level0 row6\" >Hype root</th>\n",
              "                        <td id=\"T_3e7a884c_68cb_11ec_86f2_0242ac1c0002row6_col0\" class=\"data row6 col0\" >0.183141</td>\n",
              "                        <td id=\"T_3e7a884c_68cb_11ec_86f2_0242ac1c0002row6_col1\" class=\"data row6 col1\" >0.074392</td>\n",
              "                        <td id=\"T_3e7a884c_68cb_11ec_86f2_0242ac1c0002row6_col2\" class=\"data row6 col2\" >0.987209</td>\n",
              "                        <td id=\"T_3e7a884c_68cb_11ec_86f2_0242ac1c0002row6_col3\" class=\"data row6 col3\" >0.048806</td>\n",
              "                        <td id=\"T_3e7a884c_68cb_11ec_86f2_0242ac1c0002row6_col4\" class=\"data row6 col4\" >-0.040596</td>\n",
              "                        <td id=\"T_3e7a884c_68cb_11ec_86f2_0242ac1c0002row6_col5\" class=\"data row6 col5\" >0.050996</td>\n",
              "                        <td id=\"T_3e7a884c_68cb_11ec_86f2_0242ac1c0002row6_col6\" class=\"data row6 col6\" >1.000000</td>\n",
              "            </tr>\n",
              "    </tbody></table>"
            ],
            "text/plain": [
              "<pandas.io.formats.style.Styler at 0x7f0500c57850>"
            ]
          },
          "metadata": {},
          "execution_count": 5
        }
      ]
    },
    {
      "cell_type": "markdown",
      "source": [
        "\n",
        "### Set seed for reproducibility"
      ],
      "metadata": {
        "id": "06rTPZubcNHt"
      }
    },
    {
      "cell_type": "code",
      "source": [
        "# Random seed for reproducibility\n",
        "seed = 42\n",
        "\n",
        "random.seed(seed)\n",
        "os.environ['PYTHONHASHSEED'] = str(seed)\n",
        "np.random.seed(seed)\n",
        "tf.random.set_seed(seed)\n",
        "tf.compat.v1.set_random_seed(seed)"
      ],
      "metadata": {
        "id": "j_n8RjHAbdWV"
      },
      "execution_count": null,
      "outputs": []
    },
    {
      "cell_type": "code",
      "source": [
        "data_or = data\n",
        "# data = data.drop([\"Hype root\", \"Loudness on impact\"], axis=1)"
      ],
      "metadata": {
        "id": "sSdqsWApQl1p"
      },
      "execution_count": null,
      "outputs": []
    },
    {
      "cell_type": "markdown",
      "source": [
        "### Creating training and testing data"
      ],
      "metadata": {
        "id": "KIAsZ6Dd3XaT"
      }
    },
    {
      "cell_type": "code",
      "source": [
        "TEST_SPLIT = 0.1\n",
        "\n",
        "test_size = int(len(data)*TEST_SPLIT)\n",
        "X_train_raw = data.iloc[:-test_size]\n",
        "# y_train_raw = y.iloc[:-test_size]\n",
        "X_test_raw = data.iloc[-test_size:]\n",
        "# y_test_raw = y.iloc[-test_size:]\n",
        "print(X_train_raw.shape, X_test_raw.shape)\n",
        "\n",
        "# Normalize both features and labels\n",
        "X_min = X_train_raw.min()\n",
        "X_max = X_train_raw.max()\n",
        "\n",
        "X_train_raw = (X_train_raw-X_min)/(X_max-X_min)\n",
        "X_test_raw = (X_test_raw-X_min)/(X_max-X_min)\n",
        "\n",
        "# Normalize soap sliperiness\n",
        "# X_sloap_slip = X_train_raw[\"Soap slipperiness\"]\n",
        "# X_train_raw[\"Soap slipperiness\"] = (X_sloap_slip - X_sloap_slip.min())/(X_sloap_slip.max()-X_sloap_slip.min())\n",
        "# X_test_raw[\"Soap slipperiness\"] = (X_test_raw[\"Soap slipperiness\"] - X_sloap_slip.min())/(X_sloap_slip.max()-X_sloap_slip.min())\n",
        "\n",
        "plt.figure(figsize=(17,5))\n",
        "plt.plot(X_train_raw['Sponginess'], label='Train')\n",
        "plt.plot(X_test_raw['Sponginess'], label='Test')\n",
        "plt.title('Train-Test Split')\n",
        "plt.legend()\n",
        "plt.show()"
      ],
      "metadata": {
        "id": "b_FTrY_8bjXB"
      },
      "execution_count": null,
      "outputs": []
    },
    {
      "cell_type": "markdown",
      "source": [
        "Window:\n",
        "\n",
        "200 - ok\n",
        "\n",
        "300 -ok\n",
        "\n",
        "500 - very bad"
      ],
      "metadata": {
        "id": "wBOI8mdxGz62"
      }
    },
    {
      "cell_type": "code",
      "source": [
        "window = 2000\n",
        "stride = 10"
      ],
      "metadata": {
        "id": "tVSg2Q9zeUfZ"
      },
      "execution_count": null,
      "outputs": []
    },
    {
      "cell_type": "code",
      "source": [
        "future = data[-window:]\n",
        "future = (future-X_min)/(X_max-X_min)\n",
        "future = np.expand_dims(future, axis=0)\n",
        "future.shape"
      ],
      "metadata": {
        "id": "deuxeOgf0F7r"
      },
      "execution_count": null,
      "outputs": []
    },
    {
      "cell_type": "code",
      "source": [
        "def build_sequences(df, target_labels=['pollution'], window=200, stride=20, telescope=100):\n",
        "    # Sanity check to avoid runtime errors\n",
        "    assert window % stride == 0\n",
        "    dataset = []\n",
        "    labels = []\n",
        "    temp_df = df.copy().values\n",
        "    temp_label = df[target_labels].copy().values\n",
        "    padding_len = len(df)%window\n",
        "\n",
        "    if(padding_len != 0):\n",
        "        # Compute padding length\n",
        "        padding_len = window - len(df)%window\n",
        "        padding = np.zeros((padding_len,temp_df.shape[1]), dtype='float64')\n",
        "        temp_df = np.concatenate((padding,df))\n",
        "        padding = np.zeros((padding_len,temp_label.shape[1]), dtype='float64')\n",
        "        temp_label = np.concatenate((padding,temp_label))\n",
        "        assert len(temp_df) % window == 0\n",
        "\n",
        "    for idx in np.arange(0,len(temp_df)-window-telescope,stride):\n",
        "        dataset.append(temp_df[idx:idx+window])\n",
        "        labels.append(temp_label[idx+window:idx+window+telescope])\n",
        "\n",
        "    dataset = np.array(dataset)\n",
        "    labels = np.array(labels)\n",
        "    return dataset, labels"
      ],
      "metadata": {
        "id": "srl2AdRG2RZ5"
      },
      "execution_count": null,
      "outputs": []
    },
    {
      "cell_type": "code",
      "source": [
        "target_labels = data.columns\n",
        "telescope = 864"
      ],
      "metadata": {
        "id": "9jSHtBUb2Ut7"
      },
      "execution_count": null,
      "outputs": []
    },
    {
      "cell_type": "code",
      "source": [
        "X_train, y_train = build_sequences(X_train_raw, target_labels, window, stride, telescope)\n",
        "X_test, y_test = build_sequences(X_test_raw, target_labels, window, stride, telescope)\n",
        "X_train.shape, y_train.shape, X_test.shape, y_test.shape"
      ],
      "metadata": {
        "id": "M24kQHsO2ZNK"
      },
      "execution_count": null,
      "outputs": []
    },
    {
      "cell_type": "code",
      "source": [
        "def inspect_multivariate(X, y, columns, telescope, idx=None):\n",
        "    if(idx==None):\n",
        "        idx=np.random.randint(0,len(X))\n",
        "\n",
        "    figs, axs = plt.subplots(len(columns), 1, sharex=True, figsize=(17,17))\n",
        "    for i, col in enumerate(columns):\n",
        "        axs[i].plot(np.arange(len(X[0,:,i])), X[idx,:,i])\n",
        "        axs[i].scatter(np.arange(len(X[0,:,i]), len(X_train[0,:,i])+telescope), y[idx,:,i], color='orange')\n",
        "        axs[i].set_title(col)\n",
        "        axs[i].set_ylim(0,1)\n",
        "    plt.show()"
      ],
      "metadata": {
        "id": "Wkwc3q_M2gSi"
      },
      "execution_count": null,
      "outputs": []
    },
    {
      "cell_type": "code",
      "source": [
        "inspect_multivariate(X_train, y_train, target_labels, telescope)"
      ],
      "metadata": {
        "id": "bBx2F4qB2jV_"
      },
      "execution_count": null,
      "outputs": []
    },
    {
      "cell_type": "code",
      "source": [
        "input_shape = X_train.shape[1:]\n",
        "output_shape = y_train.shape[1:]\n",
        "batch_size = 8\n",
        "epochs = 200"
      ],
      "metadata": {
        "id": "EYLbpJzx2lAC"
      },
      "execution_count": null,
      "outputs": []
    },
    {
      "cell_type": "markdown",
      "source": [
        "Results:\n",
        "BI(LSTM(64)) \n",
        "c1d\n",
        "maxpool\n",
        "BI(LSTM(128))\n",
        "c1d\n",
        "averagepool\n",
        "dropout\n",
        "0.0093"
      ],
      "metadata": {
        "id": "Dmr6Jvn3k3HN"
      }
    },
    {
      "cell_type": "markdown",
      "source": [
        "### Building network (Multivariate forecasting-direct)"
      ],
      "metadata": {
        "id": "_umwe_KT3d-t"
      }
    },
    {
      "cell_type": "code",
      "source": [
        "n_classes = input_shape[1]"
      ],
      "metadata": {
        "id": "7dWMquD9ANn0"
      },
      "execution_count": null,
      "outputs": []
    },
    {
      "cell_type": "code",
      "source": [
        "def transformer_encoder(inputs, head_size, num_heads, ff_dim, dropout=0):\n",
        "    # Normalization and Attention\n",
        "    x = layers.LayerNormalization(epsilon=1e-6)(inputs)\n",
        "    x = layers.MultiHeadAttention(\n",
        "        key_dim=head_size, num_heads=num_heads, dropout=dropout\n",
        "    )(x, x)\n",
        "    x = layers.Dropout(dropout)(x)\n",
        "    res = x + inputs\n",
        "\n",
        "    # Feed Forward Part\n",
        "    x = layers.LayerNormalization(epsilon=1e-6)(res)\n",
        "    x = layers.Conv1D(filters=ff_dim, kernel_size=1, activation=\"relu\")(x)\n",
        "    x = layers.Dropout(dropout)(x)\n",
        "    x = layers.Conv1D(filters=inputs.shape[-1], kernel_size=1)(x)\n",
        "    return x + res"
      ],
      "metadata": {
        "id": "ByXpMknM2q1B"
      },
      "execution_count": null,
      "outputs": []
    },
    {
      "cell_type": "code",
      "source": [
        "def build_model(\n",
        "    input_shape,\n",
        "    head_size,\n",
        "    num_heads,\n",
        "    ff_dim,\n",
        "    num_transformer_blocks,\n",
        "    mlp_units,\n",
        "    dropout=0,\n",
        "    mlp_dropout=0,\n",
        "):\n",
        "    inputs = keras.Input(shape=input_shape)\n",
        "    x = inputs\n",
        "    for _ in range(num_transformer_blocks):\n",
        "        x = transformer_encoder(x, head_size, num_heads, ff_dim, dropout)\n",
        "\n",
        "    x = layers.GlobalAveragePooling1D(data_format=\"channels_first\")(x)\n",
        "    for dim in mlp_units:\n",
        "        x = layers.Dense(dim, activation=\"relu\")(x)\n",
        "        x = layers.Dropout(mlp_dropout)(x)\n",
        "    dense = tfkl.Dense(output_shape[-1]*output_shape[-2], activation='relu')(x)\n",
        "    outputs = tfkl.Reshape((output_shape[-2],output_shape[-1]))(dense)\n",
        "    # output_layer = tfkl.Conv1D(output_shape[-1], 1, padding='same')(output_layer)\n",
        "    return keras.Model(inputs, outputs)\n"
      ],
      "metadata": {
        "id": "39iYXB1UZeYe"
      },
      "execution_count": null,
      "outputs": []
    },
    {
      "cell_type": "code",
      "source": [
        "input_shape"
      ],
      "metadata": {
        "id": "G33vqcmRZezy"
      },
      "execution_count": null,
      "outputs": []
    },
    {
      "cell_type": "code",
      "source": [
        "model = build_model(\n",
        "    input_shape,\n",
        "    head_size=256,\n",
        "    num_heads=4,\n",
        "    ff_dim=4,\n",
        "    num_transformer_blocks=4,\n",
        "    mlp_units=[128],\n",
        "    mlp_dropout=0.4,\n",
        "    dropout=0.25,\n",
        ")\n",
        "model.summary()\n",
        "tf.keras.utils.plot_model(model, expand_nested=True)"
      ],
      "metadata": {
        "id": "IzdlV5WE25l0"
      },
      "execution_count": null,
      "outputs": []
    },
    {
      "cell_type": "code",
      "source": [
        "model.compile(\n",
        "    loss=\"mse\",\n",
        "    optimizer=keras.optimizers.Adam(learning_rate=1e-4),\n",
        "    metrics=[\"mae\", tf.keras.metrics.RootMeanSquaredError()],\n",
        ")"
      ],
      "metadata": {
        "id": "nFuHKnHKAcOb"
      },
      "execution_count": null,
      "outputs": []
    },
    {
      "cell_type": "code",
      "source": [
        "# Train the model\n",
        "history = model.fit(\n",
        "    x = X_train,\n",
        "    y = y_train,\n",
        "    batch_size = batch_size,\n",
        "    epochs = epochs,\n",
        "    validation_split=.1,\n",
        "    callbacks = [\n",
        "        tfk.callbacks.EarlyStopping(monitor='val_loss', mode='min', patience=10, restore_best_weights=True),\n",
        "        tfk.callbacks.ReduceLROnPlateau(monitor='val_loss', mode='min', patience=5, factor=0.5, min_lr=1e-5)\n",
        "    ]\n",
        ").history"
      ],
      "metadata": {
        "id": "OY7ZCeyV27YZ"
      },
      "execution_count": null,
      "outputs": []
    },
    {
      "cell_type": "code",
      "source": [
        "best_epoch = np.argmin(history['val_loss'])\n",
        "plt.figure(figsize=(17,4))\n",
        "plt.plot(history['loss'], label='Training loss', alpha=.8, color='#ff7f0e')\n",
        "plt.plot(history['val_loss'], label='Validation loss', alpha=.9, color='#5a9aa5')\n",
        "plt.axvline(x=best_epoch, label='Best epoch', alpha=.3, ls='--', color='#5a9aa5')\n",
        "plt.title('Mean Squared Error (Loss)')\n",
        "plt.legend()\n",
        "plt.grid(alpha=.3)\n",
        "plt.show()\n",
        "\n",
        "plt.figure(figsize=(17,4))\n",
        "plt.plot(history['mae'], label='Training accuracy', alpha=.8, color='#ff7f0e')\n",
        "plt.plot(history['val_mae'], label='Validation accuracy', alpha=.9, color='#5a9aa5')\n",
        "plt.axvline(x=best_epoch, label='Best epoch', alpha=.3, ls='--', color='#5a9aa5')\n",
        "plt.title('Mean Absolute Error')\n",
        "plt.legend()\n",
        "plt.grid(alpha=.3)\n",
        "plt.show()\n",
        "\n",
        "plt.figure(figsize=(18,3))\n",
        "plt.plot(history['lr'], label='Learning Rate', alpha=.8, color='#ff7f0e')\n",
        "plt.axvline(x=best_epoch, label='Best epoch', alpha=.3, ls='--', color='#5a9aa5')\n",
        "plt.legend()\n",
        "plt.grid(alpha=.3)\n",
        "plt.show()"
      ],
      "metadata": {
        "id": "stQYjaGC3pi7"
      },
      "execution_count": null,
      "outputs": []
    },
    {
      "cell_type": "code",
      "source": [
        "model.save('wavenet')\n",
        "# model = tfk.models.load_model('DirectForecasting')"
      ],
      "metadata": {
        "id": "xbyf9SLY9fjj"
      },
      "execution_count": null,
      "outputs": []
    },
    {
      "cell_type": "code",
      "source": [
        "# Predict the test set \n",
        "predictions = model.predict(X_test)\n",
        "print(predictions.shape)\n",
        "\n",
        "mean_squared_error = tfk.metrics.mse(y_test.flatten(),predictions.flatten())\n",
        "mean_absolute_error = tfk.metrics.mae(y_test.flatten(),predictions.flatten())\n",
        "mean_squared_error.numpy(), mean_absolute_error.numpy()"
      ],
      "metadata": {
        "id": "ITRtM-2a9pkA"
      },
      "execution_count": null,
      "outputs": []
    },
    {
      "cell_type": "code",
      "source": [
        "def inspect_multivariate_prediction(X, y, pred, columns, telescope, idx=None):\n",
        "    if(idx==None):\n",
        "        idx=np.random.randint(0,len(X))\n",
        "\n",
        "    figs, axs = plt.subplots(len(columns), 1, sharex=True, figsize=(17,17))\n",
        "    for i, col in enumerate(columns):\n",
        "        axs[i].plot(np.arange(len(X[0,:,i])), X[idx,:,i])\n",
        "        axs[i].scatter(np.arange(len(X[0,:,i]), len(X_train[0,:,i])+telescope), y[idx,:,i], color='orange')\n",
        "        axs[i].scatter(np.arange(len(X[0,:,i]), len(X_train[0,:,i])+telescope), pred[idx,:,i], color='green')\n",
        "        axs[i].set_title(col)\n",
        "        axs[i].set_ylim(0,1)\n",
        "    plt.show()"
      ],
      "metadata": {
        "id": "NBp1ILiJ9vFA"
      },
      "execution_count": null,
      "outputs": []
    },
    {
      "cell_type": "code",
      "source": [
        "inspect_multivariate_prediction(X_test, y_test, predictions, target_labels, telescope)"
      ],
      "metadata": {
        "id": "tJcQfpVX92JY"
      },
      "execution_count": null,
      "outputs": []
    },
    {
      "cell_type": "code",
      "source": [
        "maes = []\n",
        "for i in range(predictions.shape[1]):\n",
        "    ft_maes = []\n",
        "    for j in range(predictions.shape[2]):\n",
        "        ft_maes.append(np.mean(np.abs(y_test[:,i,j]-predictions[:,i,j]), axis=0))\n",
        "    ft_maes = np.array(ft_maes)\n",
        "    maes.append(ft_maes)\n",
        "maes = np.array(maes)"
      ],
      "metadata": {
        "id": "IQ-skx8M93Wl"
      },
      "execution_count": null,
      "outputs": []
    },
    {
      "cell_type": "code",
      "source": [
        "future_predictions = model.predict(future)"
      ],
      "metadata": {
        "id": "3SbR_2i1965R"
      },
      "execution_count": null,
      "outputs": []
    },
    {
      "cell_type": "code",
      "source": [
        "figs, axs = plt.subplots(len(target_labels), 1, sharex=True, figsize=(17,17))\n",
        "for i, col in enumerate(target_labels):\n",
        "    axs[i].plot(np.arange(len(future[0,:,i])), future[0,:,i])\n",
        "    axs[i].plot(np.arange(len(future[0,:,i]), len(future[0,:,i])+telescope), future_predictions[0,:,i], color='orange')\n",
        "    axs[i].fill_between(\n",
        "        np.arange(len(future[0,:,i]), len(future[0,:,i])+telescope), \n",
        "        future_predictions[0,:,i]+maes[:,i], \n",
        "        future_predictions[0,:,i]-maes[:,i], \n",
        "        color='orange', alpha=.3)\n",
        "    axs[i].set_title(col)\n",
        "    # axs[i].set_ylim(0,1)\n",
        "plt.show()"
      ],
      "metadata": {
        "id": "hcUaOi_698pd"
      },
      "execution_count": null,
      "outputs": []
    },
    {
      "cell_type": "code",
      "source": [
        "reg_telescope = 864\n",
        "X_test_reg, y_test_reg = build_sequences(X_test_raw, target_labels, window, stride, reg_telescope)\n",
        "X_test_reg.shape, y_test_reg.shape"
      ],
      "metadata": {
        "id": "EDpOjqlg9-mg"
      },
      "execution_count": null,
      "outputs": []
    },
    {
      "cell_type": "code",
      "source": [
        "# Autoregressive Forecasting\n",
        "reg_predictions = np.array([])\n",
        "X_temp = X_test_reg\n",
        "for reg in range(0,reg_telescope,telescope):\n",
        "    pred_temp = model.predict(X_temp)\n",
        "    if(len(reg_predictions)==0):\n",
        "        reg_predictions = pred_temp\n",
        "    else:\n",
        "        reg_predictions = np.concatenate((reg_predictions,pred_temp),axis=1)\n",
        "    X_temp = np.concatenate((X_temp[:,telescope:,:],pred_temp), axis=1)"
      ],
      "metadata": {
        "id": "lvaE2otkn2kU"
      },
      "execution_count": null,
      "outputs": []
    },
    {
      "cell_type": "code",
      "source": [
        "mean_squared_error = tfk.metrics.mse(y_test_reg.flatten(),reg_predictions.flatten())\n",
        "mean_absolute_error = tfk.metrics.mae(y_test_reg.flatten(),reg_predictions.flatten())\n",
        "mean_squared_error, mean_absolute_error"
      ],
      "metadata": {
        "id": "21s7Gx2hn4J7"
      },
      "execution_count": null,
      "outputs": []
    },
    {
      "cell_type": "code",
      "source": [
        "inspect_multivariate_prediction(X_test_reg, y_test_reg, reg_predictions, target_labels, reg_telescope)"
      ],
      "metadata": {
        "id": "MBEiqw9Nn9pR"
      },
      "execution_count": null,
      "outputs": []
    },
    {
      "cell_type": "code",
      "source": [
        "maes = []\n",
        "for i in range(reg_predictions.shape[1]):\n",
        "    ft_maes = []\n",
        "    for j in range(reg_predictions.shape[2]):\n",
        "        ft_maes.append(np.mean(np.abs(y_test_reg[:,i,j]-reg_predictions[:,i,j]), axis=0))\n",
        "    ft_maes = np.array(ft_maes)\n",
        "    maes.append(ft_maes)\n",
        "maes = np.array(maes)"
      ],
      "metadata": {
        "id": "kNwHKQJ6n-1K"
      },
      "execution_count": null,
      "outputs": []
    },
    {
      "cell_type": "code",
      "source": [
        "reg_future = np.array([])\n",
        "X_temp = future\n",
        "for reg in range(reg_telescope):\n",
        "    pred_temp = model.predict(X_temp)\n",
        "    if(len(reg_future)==0):\n",
        "        reg_future = pred_temp\n",
        "    else:\n",
        "        reg_future = np.concatenate((reg_future,pred_temp),axis=1)\n",
        "    X_temp = np.concatenate((X_temp[:,1:,:],pred_temp), axis=1)"
      ],
      "metadata": {
        "id": "8Sx-OpV6oAON"
      },
      "execution_count": null,
      "outputs": []
    },
    {
      "cell_type": "code",
      "source": [
        "figs, axs = plt.subplots(len(target_labels), 1, sharex=True, figsize=(17,17))\n",
        "for i, col in enumerate(target_labels):\n",
        "    axs[i].plot(np.arange(len(future[0,:,i])), future[0,:,i])\n",
        "    axs[i].plot(np.arange(len(future[0,:,i]), len(future[0,:,i])+reg_telescope), reg_future[0,:,i], color='orange')\n",
        "    axs[i].fill_between(\n",
        "        np.arange(len(future[0,:,i]), len(future[0,:,i])+reg_telescope), \n",
        "        reg_future[0,:,i]+maes[:,i], \n",
        "        reg_future[0,:,i]-maes[:,i], \n",
        "        color='orange', alpha=.3)\n",
        "    axs[i].set_title(col)\n",
        "    axs[i].set_ylim(0,1)\n",
        "plt.show()"
      ],
      "metadata": {
        "id": "OSLTQLAUoEst"
      },
      "execution_count": null,
      "outputs": []
    }
  ]
}