{
  "nbformat": 4,
  "nbformat_minor": 0,
  "metadata": {
    "colab": {
      "name": "toma_model.ipynb",
      "provenance": [],
      "include_colab_link": true
    },
    "kernelspec": {
      "name": "python3",
      "display_name": "Python 3"
    },
    "language_info": {
      "name": "python"
    },
    "accelerator": "GPU"
  },
  "cells": [
    {
      "cell_type": "markdown",
      "metadata": {
        "id": "view-in-github",
        "colab_type": "text"
      },
      "source": [
        "<a href=\"https://colab.research.google.com/github/giuliovv/ANNDL_competitions/blob/master/2_RNN/giulio_model_wavenet.ipynb\" target=\"_parent\"><img src=\"https://colab.research.google.com/assets/colab-badge.svg\" alt=\"Open In Colab\"/></a>"
      ]
    },
    {
      "cell_type": "markdown",
      "source": [
        "### Connect to drive and import libraries"
      ],
      "metadata": {
        "id": "IhfdEepecYSU"
      }
    },
    {
      "cell_type": "code",
      "execution_count": null,
      "metadata": {
        "id": "KCDpp5xVbLYd"
      },
      "outputs": [],
      "source": [
        "import os\n",
        "\n",
        "colab = \"True\" #@param ['True','False']\n",
        "if colab == \"True\":\n",
        "  from google.colab import drive\n",
        "  drive.mount('/gdrive')\n",
        "  %cd /gdrive/MyDrive/Colab Notebooks"
      ]
    },
    {
      "cell_type": "code",
      "source": [
        "import pandas as pd\n",
        "import matplotlib.pyplot as plt\n",
        "import random\n",
        "import tensorflow as tf\n",
        "import numpy as np\n",
        "\n",
        "tfk = tf.keras\n",
        "tfkl = tf.keras.layers"
      ],
      "metadata": {
        "id": "H_15z3lmbOaR"
      },
      "execution_count": null,
      "outputs": []
    },
    {
      "cell_type": "markdown",
      "source": [
        "### Data inspection"
      ],
      "metadata": {
        "id": "lhDKQ0uOceBd"
      }
    },
    {
      "cell_type": "code",
      "source": [
        "plt.rcParams[\"figure.figsize\"] = (20,10)\n",
        "data = pd.read_csv(\"Training.csv\")\n",
        "data.head()"
      ],
      "metadata": {
        "id": "LazIwsYubRtu"
      },
      "execution_count": null,
      "outputs": []
    },
    {
      "cell_type": "code",
      "source": [
        "data.info()"
      ],
      "metadata": {
        "id": "6bFgu9M4bfDB"
      },
      "execution_count": null,
      "outputs": []
    },
    {
      "cell_type": "code",
      "source": [
        "data.plot(subplots=True, layout=(4,2))\n",
        "data.corr().style.background_gradient(cmap='coolwarm')"
      ],
      "metadata": {
        "id": "LAnjVWjvbcAU"
      },
      "execution_count": null,
      "outputs": []
    },
    {
      "cell_type": "markdown",
      "source": [
        "\n",
        "### Set seed for reproducibility"
      ],
      "metadata": {
        "id": "06rTPZubcNHt"
      }
    },
    {
      "cell_type": "code",
      "source": [
        "# Random seed for reproducibility\n",
        "seed = 42\n",
        "\n",
        "random.seed(seed)\n",
        "os.environ['PYTHONHASHSEED'] = str(seed)\n",
        "np.random.seed(seed)\n",
        "tf.random.set_seed(seed)\n",
        "tf.compat.v1.set_random_seed(seed)"
      ],
      "metadata": {
        "id": "j_n8RjHAbdWV"
      },
      "execution_count": null,
      "outputs": []
    },
    {
      "cell_type": "code",
      "source": [
        "data_or = data\n",
        "data = data.drop([\"Hype root\", \"Loudness on impact\"], axis=1)"
      ],
      "metadata": {
        "id": "sSdqsWApQl1p"
      },
      "execution_count": null,
      "outputs": []
    },
    {
      "cell_type": "markdown",
      "source": [
        "### Creating training and testing data"
      ],
      "metadata": {
        "id": "KIAsZ6Dd3XaT"
      }
    },
    {
      "cell_type": "code",
      "source": [
        "TEST_SPLIT = 0.1\n",
        "\n",
        "test_size = int(len(data)*TEST_SPLIT)\n",
        "X_train_raw = data.iloc[:-test_size]\n",
        "# y_train_raw = y.iloc[:-test_size]\n",
        "X_test_raw = data.iloc[-test_size:]\n",
        "# y_test_raw = y.iloc[-test_size:]\n",
        "print(X_train_raw.shape, X_test_raw.shape)\n",
        "\n",
        "# Normalize both features and labels\n",
        "X_min = X_train_raw.min()\n",
        "X_max = X_train_raw.max()\n",
        "\n",
        "X_train_raw = (X_train_raw-X_min)/(X_max-X_min)\n",
        "X_test_raw = (X_test_raw-X_min)/(X_max-X_min)\n",
        "\n",
        "# Normalize soap sliperiness\n",
        "# X_sloap_slip = X_train_raw[\"Soap slipperiness\"]\n",
        "# X_train_raw[\"Soap slipperiness\"] = (X_sloap_slip - X_sloap_slip.min())/(X_sloap_slip.max()-X_sloap_slip.min())\n",
        "# X_test_raw[\"Soap slipperiness\"] = (X_test_raw[\"Soap slipperiness\"] - X_sloap_slip.min())/(X_sloap_slip.max()-X_sloap_slip.min())\n",
        "\n",
        "plt.figure(figsize=(17,5))\n",
        "plt.plot(X_train_raw['Sponginess'], label='Train')\n",
        "plt.plot(X_test_raw['Sponginess'], label='Test')\n",
        "plt.title('Train-Test Split')\n",
        "plt.legend()\n",
        "plt.show()"
      ],
      "metadata": {
        "id": "b_FTrY_8bjXB"
      },
      "execution_count": null,
      "outputs": []
    },
    {
      "cell_type": "markdown",
      "source": [
        "Window:\n",
        "\n",
        "200 - ok\n",
        "\n",
        "300 -ok\n",
        "\n",
        "500 - very bad"
      ],
      "metadata": {
        "id": "wBOI8mdxGz62"
      }
    },
    {
      "cell_type": "code",
      "source": [
        "window = 1600\n",
        "stride = 10"
      ],
      "metadata": {
        "id": "tVSg2Q9zeUfZ"
      },
      "execution_count": null,
      "outputs": []
    },
    {
      "cell_type": "code",
      "source": [
        "future = data[-window:]\n",
        "future = (future-X_min)/(X_max-X_min)\n",
        "future = np.expand_dims(future, axis=0)\n",
        "future.shape"
      ],
      "metadata": {
        "id": "deuxeOgf0F7r"
      },
      "execution_count": null,
      "outputs": []
    },
    {
      "cell_type": "code",
      "source": [
        "def build_sequences(df, target_labels=['pollution'], window=200, stride=20, telescope=100):\n",
        "    # Sanity check to avoid runtime errors\n",
        "    assert window % stride == 0\n",
        "    dataset = []\n",
        "    labels = []\n",
        "    temp_df = df.copy().values\n",
        "    temp_label = df[target_labels].copy().values\n",
        "    padding_len = len(df)%window\n",
        "\n",
        "    if(padding_len != 0):\n",
        "        # Compute padding length\n",
        "        padding_len = window - len(df)%window\n",
        "        padding = np.zeros((padding_len,temp_df.shape[1]), dtype='float64')\n",
        "        temp_df = np.concatenate((padding,df))\n",
        "        padding = np.zeros((padding_len,temp_label.shape[1]), dtype='float64')\n",
        "        temp_label = np.concatenate((padding,temp_label))\n",
        "        assert len(temp_df) % window == 0\n",
        "\n",
        "    for idx in np.arange(0,len(temp_df)-window-telescope,stride):\n",
        "        dataset.append(temp_df[idx:idx+window])\n",
        "        labels.append(temp_label[idx+window:idx+window+telescope])\n",
        "\n",
        "    dataset = np.array(dataset)\n",
        "    labels = np.array(labels)\n",
        "    return dataset, labels"
      ],
      "metadata": {
        "id": "srl2AdRG2RZ5"
      },
      "execution_count": null,
      "outputs": []
    },
    {
      "cell_type": "code",
      "source": [
        "target_labels = data.columns\n",
        "telescope = 864"
      ],
      "metadata": {
        "id": "9jSHtBUb2Ut7"
      },
      "execution_count": null,
      "outputs": []
    },
    {
      "cell_type": "code",
      "source": [
        "X_train, y_train = build_sequences(X_train_raw, target_labels, window, stride, telescope)\n",
        "X_test, y_test = build_sequences(X_test_raw, target_labels, window, stride, telescope)\n",
        "X_train.shape, y_train.shape, X_test.shape, y_test.shape"
      ],
      "metadata": {
        "id": "M24kQHsO2ZNK"
      },
      "execution_count": null,
      "outputs": []
    },
    {
      "cell_type": "code",
      "source": [
        "def inspect_multivariate(X, y, columns, telescope, idx=None):\n",
        "    if(idx==None):\n",
        "        idx=np.random.randint(0,len(X))\n",
        "\n",
        "    figs, axs = plt.subplots(len(columns), 1, sharex=True, figsize=(17,17))\n",
        "    for i, col in enumerate(columns):\n",
        "        axs[i].plot(np.arange(len(X[0,:,i])), X[idx,:,i])\n",
        "        axs[i].scatter(np.arange(len(X[0,:,i]), len(X_train[0,:,i])+telescope), y[idx,:,i], color='orange')\n",
        "        axs[i].set_title(col)\n",
        "        axs[i].set_ylim(0,1)\n",
        "    plt.show()"
      ],
      "metadata": {
        "id": "Wkwc3q_M2gSi"
      },
      "execution_count": null,
      "outputs": []
    },
    {
      "cell_type": "code",
      "source": [
        "inspect_multivariate(X_train, y_train, target_labels, telescope)"
      ],
      "metadata": {
        "id": "bBx2F4qB2jV_"
      },
      "execution_count": null,
      "outputs": []
    },
    {
      "cell_type": "code",
      "source": [
        "input_shape = X_train.shape[1:]\n",
        "output_shape = y_train.shape[1:]\n",
        "batch_size = 64\n",
        "epochs = 200"
      ],
      "metadata": {
        "id": "EYLbpJzx2lAC"
      },
      "execution_count": null,
      "outputs": []
    },
    {
      "cell_type": "markdown",
      "source": [
        "Results:\n",
        "BI(LSTM(64)) \n",
        "c1d\n",
        "maxpool\n",
        "BI(LSTM(128))\n",
        "c1d\n",
        "averagepool\n",
        "dropout\n",
        "0.0093"
      ],
      "metadata": {
        "id": "Dmr6Jvn3k3HN"
      }
    },
    {
      "cell_type": "markdown",
      "source": [
        "### Building network (Multivariate forecasting-direct)"
      ],
      "metadata": {
        "id": "_umwe_KT3d-t"
      }
    },
    {
      "cell_type": "code",
      "source": [
        "model = keras.models.Sequential()\n",
        "model.add(keras.layers.InputLayer(input_shape=[None, 1]))\n",
        "for rate in (1, 2, 4, 8) * 2:\n",
        "    model.add(keras.layers.Conv1D(filters=20, kernel_size=2, padding=\"causal\",\n",
        "                                  activation=\"relu\", dilation_rate=rate))\n",
        "model.add(keras.layers.Conv1D(filters=10, kernel_size=1))\n",
        "model.compile(loss=\"mse\", optimizer=\"adam\", metrics=[last_time_step_mse])\n",
        "history = model.fit(X_train, Y_train, epochs=20,\n",
        "                    validation_data=(X_valid, Y_valid))"
      ],
      "metadata": {
        "id": "wzrXXG9TVMaJ"
      },
      "execution_count": null,
      "outputs": []
    },
    {
      "cell_type": "code",
      "source": [
        "def build_wavenet(input_shape, output_shape):\n",
        "    model = keras.models.Sequential()\n",
        "\n",
        "    # Build the neural network layer by layer\n",
        "    # input_layer = tfkl.Input(shape=input_shape, name='Input')\n",
        "\n",
        "    model.add(keras.layers.InputLayer(input_shape=input_shape, name='Input'))\n",
        "    for rate in (1, 2, 4, 8) * 2:\n",
        "        model.add(keras.layers.Conv1D(filters=20, kernel_size=2, padding=\"causal\",\n",
        "                                      activation=\"relu\", dilation_rate=rate))\n",
        "    model.add(keras.layers.Conv1D(filters=10, kernel_size=1))\n",
        "\n",
        "    model.add(tfkl.Dense(output_shape[-1]*output_shape[-2], activation='relu'))\n",
        "    model.add(tfkl.Reshape((output_shape[-2],output_shape[-1])))\n",
        "    model.add(tfkl.Conv1D(output_shape[-1], 1, padding='same'))\n",
        "\n",
        "    model.compile(loss=tfk.losses.MeanSquaredError(), optimizer=tfk.optimizers.Adam(), metrics=['mae'])\n",
        "\n",
        "    # Return the model\n",
        "    return model"
      ],
      "metadata": {
        "id": "ByXpMknM2q1B"
      },
      "execution_count": null,
      "outputs": []
    },
    {
      "cell_type": "code",
      "source": [
        "model = build_wavenet(input_shape, output_shape)\n",
        "model.summary()\n",
        "tf.keras.utils.plot_model(model, expand_nested=True)"
      ],
      "metadata": {
        "id": "IzdlV5WE25l0"
      },
      "execution_count": null,
      "outputs": []
    },
    {
      "cell_type": "code",
      "source": [
        "# Train the model\n",
        "history = model.fit(\n",
        "    x = X_train,\n",
        "    y = y_train,\n",
        "    batch_size = batch_size,\n",
        "    epochs = epochs,\n",
        "    validation_split=.1,\n",
        "    callbacks = [\n",
        "        tfk.callbacks.EarlyStopping(monitor='val_loss', mode='min', patience=10, restore_best_weights=True),\n",
        "        tfk.callbacks.ReduceLROnPlateau(monitor='val_loss', mode='min', patience=5, factor=0.5, min_lr=1e-5)\n",
        "    ]\n",
        ").history"
      ],
      "metadata": {
        "id": "OY7ZCeyV27YZ"
      },
      "execution_count": null,
      "outputs": []
    },
    {
      "cell_type": "code",
      "source": [
        "best_epoch = np.argmin(history['val_loss'])\n",
        "plt.figure(figsize=(17,4))\n",
        "plt.plot(history['loss'], label='Training loss', alpha=.8, color='#ff7f0e')\n",
        "plt.plot(history['val_loss'], label='Validation loss', alpha=.9, color='#5a9aa5')\n",
        "plt.axvline(x=best_epoch, label='Best epoch', alpha=.3, ls='--', color='#5a9aa5')\n",
        "plt.title('Mean Squared Error (Loss)')\n",
        "plt.legend()\n",
        "plt.grid(alpha=.3)\n",
        "plt.show()\n",
        "\n",
        "plt.figure(figsize=(17,4))\n",
        "plt.plot(history['mae'], label='Training accuracy', alpha=.8, color='#ff7f0e')\n",
        "plt.plot(history['val_mae'], label='Validation accuracy', alpha=.9, color='#5a9aa5')\n",
        "plt.axvline(x=best_epoch, label='Best epoch', alpha=.3, ls='--', color='#5a9aa5')\n",
        "plt.title('Mean Absolute Error')\n",
        "plt.legend()\n",
        "plt.grid(alpha=.3)\n",
        "plt.show()\n",
        "\n",
        "plt.figure(figsize=(18,3))\n",
        "plt.plot(history['lr'], label='Learning Rate', alpha=.8, color='#ff7f0e')\n",
        "plt.axvline(x=best_epoch, label='Best epoch', alpha=.3, ls='--', color='#5a9aa5')\n",
        "plt.legend()\n",
        "plt.grid(alpha=.3)\n",
        "plt.show()"
      ],
      "metadata": {
        "id": "stQYjaGC3pi7"
      },
      "execution_count": null,
      "outputs": []
    },
    {
      "cell_type": "code",
      "source": [
        "model.save('wavenet')\n",
        "# model = tfk.models.load_model('DirectForecasting')"
      ],
      "metadata": {
        "id": "xbyf9SLY9fjj"
      },
      "execution_count": null,
      "outputs": []
    },
    {
      "cell_type": "code",
      "source": [
        "# Predict the test set \n",
        "predictions = model.predict(X_test)\n",
        "print(predictions.shape)\n",
        "\n",
        "mean_squared_error = tfk.metrics.mse(y_test.flatten(),predictions.flatten())\n",
        "mean_absolute_error = tfk.metrics.mae(y_test.flatten(),predictions.flatten())\n",
        "mean_squared_error.numpy(), mean_absolute_error.numpy()"
      ],
      "metadata": {
        "id": "ITRtM-2a9pkA"
      },
      "execution_count": null,
      "outputs": []
    },
    {
      "cell_type": "code",
      "source": [
        "def inspect_multivariate_prediction(X, y, pred, columns, telescope, idx=None):\n",
        "    if(idx==None):\n",
        "        idx=np.random.randint(0,len(X))\n",
        "\n",
        "    figs, axs = plt.subplots(len(columns), 1, sharex=True, figsize=(17,17))\n",
        "    for i, col in enumerate(columns):\n",
        "        axs[i].plot(np.arange(len(X[0,:,i])), X[idx,:,i])\n",
        "        axs[i].scatter(np.arange(len(X[0,:,i]), len(X_train[0,:,i])+telescope), y[idx,:,i], color='orange')\n",
        "        axs[i].scatter(np.arange(len(X[0,:,i]), len(X_train[0,:,i])+telescope), pred[idx,:,i], color='green')\n",
        "        axs[i].set_title(col)\n",
        "        axs[i].set_ylim(0,1)\n",
        "    plt.show()"
      ],
      "metadata": {
        "id": "NBp1ILiJ9vFA"
      },
      "execution_count": null,
      "outputs": []
    },
    {
      "cell_type": "code",
      "source": [
        "inspect_multivariate_prediction(X_test, y_test, predictions, target_labels, telescope)"
      ],
      "metadata": {
        "id": "tJcQfpVX92JY"
      },
      "execution_count": null,
      "outputs": []
    },
    {
      "cell_type": "code",
      "source": [
        "maes = []\n",
        "for i in range(predictions.shape[1]):\n",
        "    ft_maes = []\n",
        "    for j in range(predictions.shape[2]):\n",
        "        ft_maes.append(np.mean(np.abs(y_test[:,i,j]-predictions[:,i,j]), axis=0))\n",
        "    ft_maes = np.array(ft_maes)\n",
        "    maes.append(ft_maes)\n",
        "maes = np.array(maes)"
      ],
      "metadata": {
        "id": "IQ-skx8M93Wl"
      },
      "execution_count": null,
      "outputs": []
    },
    {
      "cell_type": "code",
      "source": [
        "future_predictions = model.predict(future)"
      ],
      "metadata": {
        "id": "3SbR_2i1965R"
      },
      "execution_count": null,
      "outputs": []
    },
    {
      "cell_type": "code",
      "source": [
        "figs, axs = plt.subplots(len(target_labels), 1, sharex=True, figsize=(17,17))\n",
        "for i, col in enumerate(target_labels):\n",
        "    axs[i].plot(np.arange(len(future[0,:,i])), future[0,:,i])\n",
        "    axs[i].plot(np.arange(len(future[0,:,i]), len(future[0,:,i])+telescope), future_predictions[0,:,i], color='orange')\n",
        "    axs[i].fill_between(\n",
        "        np.arange(len(future[0,:,i]), len(future[0,:,i])+telescope), \n",
        "        future_predictions[0,:,i]+maes[:,i], \n",
        "        future_predictions[0,:,i]-maes[:,i], \n",
        "        color='orange', alpha=.3)\n",
        "    axs[i].set_title(col)\n",
        "    # axs[i].set_ylim(0,1)\n",
        "plt.show()"
      ],
      "metadata": {
        "id": "hcUaOi_698pd"
      },
      "execution_count": null,
      "outputs": []
    },
    {
      "cell_type": "code",
      "source": [
        ""
      ],
      "metadata": {
        "id": "EDpOjqlg9-mg"
      },
      "execution_count": null,
      "outputs": []
    }
  ]
}